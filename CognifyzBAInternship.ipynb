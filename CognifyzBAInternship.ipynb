{
  "nbformat": 4,
  "nbformat_minor": 0,
  "metadata": {
    "colab": {
      "provenance": []
    },
    "kernelspec": {
      "name": "python3",
      "display_name": "Python 3"
    },
    "language_info": {
      "name": "python"
    }
  },
  "cells": [
    {
      "cell_type": "markdown",
      "source": [
        "# **Level 1: Beginner**"
      ],
      "metadata": {
        "id": "ogQoA0LAZp8P"
      }
    },
    {
      "cell_type": "markdown",
      "source": [
        "**Task 1: Data Overview**"
      ],
      "metadata": {
        "id": "aW0Phg-zZwfC"
      }
    },
    {
      "cell_type": "markdown",
      "source": [
        "1.Import Necessary Libraries"
      ],
      "metadata": {
        "id": "HvLX_3CWXpGK"
      }
    },
    {
      "cell_type": "code",
      "execution_count": 1,
      "metadata": {
        "id": "w0GoVpvZWzcG"
      },
      "outputs": [],
      "source": [
        "import pandas as pd"
      ]
    },
    {
      "cell_type": "code",
      "source": [
        "import numpy as np"
      ],
      "metadata": {
        "id": "5mn6ZKDXYilu"
      },
      "execution_count": 2,
      "outputs": []
    },
    {
      "cell_type": "code",
      "source": [
        "import matplotlib.pyplot as plt"
      ],
      "metadata": {
        "id": "WbUlBO0zYlTD"
      },
      "execution_count": 3,
      "outputs": []
    },
    {
      "cell_type": "markdown",
      "source": [
        "2.Load the Dataset"
      ],
      "metadata": {
        "id": "rnIeZSMsXx5W"
      }
    },
    {
      "cell_type": "code",
      "source": [
        "df = pd.read_csv(\"/content/Data_set 2 - Copy.csv\")"
      ],
      "metadata": {
        "id": "xFv-k_0VXLq9"
      },
      "execution_count": 4,
      "outputs": []
    },
    {
      "cell_type": "markdown",
      "source": [
        "3.Overview of the Data"
      ],
      "metadata": {
        "id": "uU9gw-hjX3OY"
      }
    },
    {
      "cell_type": "code",
      "source": [
        "df.info()"
      ],
      "metadata": {
        "colab": {
          "base_uri": "https://localhost:8080/"
        },
        "id": "tdsGXs6sXfoD",
        "outputId": "3d01fb7a-1718-4887-f6c6-c326db5ba172"
      },
      "execution_count": 5,
      "outputs": [
        {
          "output_type": "stream",
          "name": "stdout",
          "text": [
            "<class 'pandas.core.frame.DataFrame'>\n",
            "RangeIndex: 40 entries, 0 to 39\n",
            "Data columns (total 24 columns):\n",
            " #   Column                             Non-Null Count  Dtype \n",
            "---  ------                             --------------  ----- \n",
            " 0   gender                             40 non-null     object\n",
            " 1   age                                40 non-null     int64 \n",
            " 2   Investment_Avenues                 40 non-null     object\n",
            " 3   Mutual_Funds                       40 non-null     int64 \n",
            " 4   Equity_Market                      40 non-null     int64 \n",
            " 5   Debentures                         40 non-null     int64 \n",
            " 6   Government_Bonds                   40 non-null     int64 \n",
            " 7   Fixed_Deposits                     40 non-null     int64 \n",
            " 8   PPF                                40 non-null     int64 \n",
            " 9   Gold                               40 non-null     int64 \n",
            " 10  Stock_Marktet                      40 non-null     object\n",
            " 11  Factor                             40 non-null     object\n",
            " 12  Objective                          40 non-null     object\n",
            " 13  Purpose                            40 non-null     object\n",
            " 14  Duration                           40 non-null     object\n",
            " 15  Invest_Monitor                     40 non-null     object\n",
            " 16  Expect                             40 non-null     object\n",
            " 17  Avenue                             40 non-null     object\n",
            " 18  What are your savings objectives?  40 non-null     object\n",
            " 19  Reason_Equity                      40 non-null     object\n",
            " 20  Reason_Mutual                      40 non-null     object\n",
            " 21  Reason_Bonds                       40 non-null     object\n",
            " 22  Reason_FD                          40 non-null     object\n",
            " 23  Source                             40 non-null     object\n",
            "dtypes: int64(8), object(16)\n",
            "memory usage: 7.6+ KB\n"
          ]
        }
      ]
    },
    {
      "cell_type": "code",
      "source": [
        "df.describe()"
      ],
      "metadata": {
        "colab": {
          "base_uri": "https://localhost:8080/",
          "height": 300
        },
        "id": "r6CTjnrLYOGK",
        "outputId": "5684d584-ccb2-408e-e471-3e277ca29eb7"
      },
      "execution_count": 6,
      "outputs": [
        {
          "output_type": "execute_result",
          "data": {
            "text/plain": [
              "             age  Mutual_Funds  Equity_Market  Debentures  Government_Bonds  \\\n",
              "count  40.000000     40.000000      40.000000   40.000000         40.000000   \n",
              "mean   27.800000      2.550000       3.475000    5.750000          4.650000   \n",
              "std     3.560467      1.197219       1.131994    1.675617          1.369072   \n",
              "min    21.000000      1.000000       1.000000    1.000000          1.000000   \n",
              "25%    25.750000      2.000000       3.000000    5.000000          4.000000   \n",
              "50%    27.000000      2.000000       4.000000    6.500000          5.000000   \n",
              "75%    30.000000      3.000000       4.000000    7.000000          5.000000   \n",
              "max    35.000000      7.000000       6.000000    7.000000          7.000000   \n",
              "\n",
              "       Fixed_Deposits        PPF       Gold  \n",
              "count       40.000000  40.000000  40.000000  \n",
              "mean         3.575000   2.025000   5.975000  \n",
              "std          1.795828   1.609069   1.143263  \n",
              "min          1.000000   1.000000   2.000000  \n",
              "25%          2.750000   1.000000   6.000000  \n",
              "50%          3.500000   1.000000   6.000000  \n",
              "75%          5.000000   2.250000   7.000000  \n",
              "max          7.000000   6.000000   7.000000  "
            ],
            "text/html": [
              "\n",
              "  <div id=\"df-86685a69-d350-4b0c-8228-aa9d0bc0ab6c\" class=\"colab-df-container\">\n",
              "    <div>\n",
              "<style scoped>\n",
              "    .dataframe tbody tr th:only-of-type {\n",
              "        vertical-align: middle;\n",
              "    }\n",
              "\n",
              "    .dataframe tbody tr th {\n",
              "        vertical-align: top;\n",
              "    }\n",
              "\n",
              "    .dataframe thead th {\n",
              "        text-align: right;\n",
              "    }\n",
              "</style>\n",
              "<table border=\"1\" class=\"dataframe\">\n",
              "  <thead>\n",
              "    <tr style=\"text-align: right;\">\n",
              "      <th></th>\n",
              "      <th>age</th>\n",
              "      <th>Mutual_Funds</th>\n",
              "      <th>Equity_Market</th>\n",
              "      <th>Debentures</th>\n",
              "      <th>Government_Bonds</th>\n",
              "      <th>Fixed_Deposits</th>\n",
              "      <th>PPF</th>\n",
              "      <th>Gold</th>\n",
              "    </tr>\n",
              "  </thead>\n",
              "  <tbody>\n",
              "    <tr>\n",
              "      <th>count</th>\n",
              "      <td>40.000000</td>\n",
              "      <td>40.000000</td>\n",
              "      <td>40.000000</td>\n",
              "      <td>40.000000</td>\n",
              "      <td>40.000000</td>\n",
              "      <td>40.000000</td>\n",
              "      <td>40.000000</td>\n",
              "      <td>40.000000</td>\n",
              "    </tr>\n",
              "    <tr>\n",
              "      <th>mean</th>\n",
              "      <td>27.800000</td>\n",
              "      <td>2.550000</td>\n",
              "      <td>3.475000</td>\n",
              "      <td>5.750000</td>\n",
              "      <td>4.650000</td>\n",
              "      <td>3.575000</td>\n",
              "      <td>2.025000</td>\n",
              "      <td>5.975000</td>\n",
              "    </tr>\n",
              "    <tr>\n",
              "      <th>std</th>\n",
              "      <td>3.560467</td>\n",
              "      <td>1.197219</td>\n",
              "      <td>1.131994</td>\n",
              "      <td>1.675617</td>\n",
              "      <td>1.369072</td>\n",
              "      <td>1.795828</td>\n",
              "      <td>1.609069</td>\n",
              "      <td>1.143263</td>\n",
              "    </tr>\n",
              "    <tr>\n",
              "      <th>min</th>\n",
              "      <td>21.000000</td>\n",
              "      <td>1.000000</td>\n",
              "      <td>1.000000</td>\n",
              "      <td>1.000000</td>\n",
              "      <td>1.000000</td>\n",
              "      <td>1.000000</td>\n",
              "      <td>1.000000</td>\n",
              "      <td>2.000000</td>\n",
              "    </tr>\n",
              "    <tr>\n",
              "      <th>25%</th>\n",
              "      <td>25.750000</td>\n",
              "      <td>2.000000</td>\n",
              "      <td>3.000000</td>\n",
              "      <td>5.000000</td>\n",
              "      <td>4.000000</td>\n",
              "      <td>2.750000</td>\n",
              "      <td>1.000000</td>\n",
              "      <td>6.000000</td>\n",
              "    </tr>\n",
              "    <tr>\n",
              "      <th>50%</th>\n",
              "      <td>27.000000</td>\n",
              "      <td>2.000000</td>\n",
              "      <td>4.000000</td>\n",
              "      <td>6.500000</td>\n",
              "      <td>5.000000</td>\n",
              "      <td>3.500000</td>\n",
              "      <td>1.000000</td>\n",
              "      <td>6.000000</td>\n",
              "    </tr>\n",
              "    <tr>\n",
              "      <th>75%</th>\n",
              "      <td>30.000000</td>\n",
              "      <td>3.000000</td>\n",
              "      <td>4.000000</td>\n",
              "      <td>7.000000</td>\n",
              "      <td>5.000000</td>\n",
              "      <td>5.000000</td>\n",
              "      <td>2.250000</td>\n",
              "      <td>7.000000</td>\n",
              "    </tr>\n",
              "    <tr>\n",
              "      <th>max</th>\n",
              "      <td>35.000000</td>\n",
              "      <td>7.000000</td>\n",
              "      <td>6.000000</td>\n",
              "      <td>7.000000</td>\n",
              "      <td>7.000000</td>\n",
              "      <td>7.000000</td>\n",
              "      <td>6.000000</td>\n",
              "      <td>7.000000</td>\n",
              "    </tr>\n",
              "  </tbody>\n",
              "</table>\n",
              "</div>\n",
              "    <div class=\"colab-df-buttons\">\n",
              "\n",
              "  <div class=\"colab-df-container\">\n",
              "    <button class=\"colab-df-convert\" onclick=\"convertToInteractive('df-86685a69-d350-4b0c-8228-aa9d0bc0ab6c')\"\n",
              "            title=\"Convert this dataframe to an interactive table.\"\n",
              "            style=\"display:none;\">\n",
              "\n",
              "  <svg xmlns=\"http://www.w3.org/2000/svg\" height=\"24px\" viewBox=\"0 -960 960 960\">\n",
              "    <path d=\"M120-120v-720h720v720H120Zm60-500h600v-160H180v160Zm220 220h160v-160H400v160Zm0 220h160v-160H400v160ZM180-400h160v-160H180v160Zm440 0h160v-160H620v160ZM180-180h160v-160H180v160Zm440 0h160v-160H620v160Z\"/>\n",
              "  </svg>\n",
              "    </button>\n",
              "\n",
              "  <style>\n",
              "    .colab-df-container {\n",
              "      display:flex;\n",
              "      gap: 12px;\n",
              "    }\n",
              "\n",
              "    .colab-df-convert {\n",
              "      background-color: #E8F0FE;\n",
              "      border: none;\n",
              "      border-radius: 50%;\n",
              "      cursor: pointer;\n",
              "      display: none;\n",
              "      fill: #1967D2;\n",
              "      height: 32px;\n",
              "      padding: 0 0 0 0;\n",
              "      width: 32px;\n",
              "    }\n",
              "\n",
              "    .colab-df-convert:hover {\n",
              "      background-color: #E2EBFA;\n",
              "      box-shadow: 0px 1px 2px rgba(60, 64, 67, 0.3), 0px 1px 3px 1px rgba(60, 64, 67, 0.15);\n",
              "      fill: #174EA6;\n",
              "    }\n",
              "\n",
              "    .colab-df-buttons div {\n",
              "      margin-bottom: 4px;\n",
              "    }\n",
              "\n",
              "    [theme=dark] .colab-df-convert {\n",
              "      background-color: #3B4455;\n",
              "      fill: #D2E3FC;\n",
              "    }\n",
              "\n",
              "    [theme=dark] .colab-df-convert:hover {\n",
              "      background-color: #434B5C;\n",
              "      box-shadow: 0px 1px 3px 1px rgba(0, 0, 0, 0.15);\n",
              "      filter: drop-shadow(0px 1px 2px rgba(0, 0, 0, 0.3));\n",
              "      fill: #FFFFFF;\n",
              "    }\n",
              "  </style>\n",
              "\n",
              "    <script>\n",
              "      const buttonEl =\n",
              "        document.querySelector('#df-86685a69-d350-4b0c-8228-aa9d0bc0ab6c button.colab-df-convert');\n",
              "      buttonEl.style.display =\n",
              "        google.colab.kernel.accessAllowed ? 'block' : 'none';\n",
              "\n",
              "      async function convertToInteractive(key) {\n",
              "        const element = document.querySelector('#df-86685a69-d350-4b0c-8228-aa9d0bc0ab6c');\n",
              "        const dataTable =\n",
              "          await google.colab.kernel.invokeFunction('convertToInteractive',\n",
              "                                                    [key], {});\n",
              "        if (!dataTable) return;\n",
              "\n",
              "        const docLinkHtml = 'Like what you see? Visit the ' +\n",
              "          '<a target=\"_blank\" href=https://colab.research.google.com/notebooks/data_table.ipynb>data table notebook</a>'\n",
              "          + ' to learn more about interactive tables.';\n",
              "        element.innerHTML = '';\n",
              "        dataTable['output_type'] = 'display_data';\n",
              "        await google.colab.output.renderOutput(dataTable, element);\n",
              "        const docLink = document.createElement('div');\n",
              "        docLink.innerHTML = docLinkHtml;\n",
              "        element.appendChild(docLink);\n",
              "      }\n",
              "    </script>\n",
              "  </div>\n",
              "\n",
              "\n",
              "    <div id=\"df-59141771-8f5e-4bd3-9990-0cfcc9e13b4e\">\n",
              "      <button class=\"colab-df-quickchart\" onclick=\"quickchart('df-59141771-8f5e-4bd3-9990-0cfcc9e13b4e')\"\n",
              "                title=\"Suggest charts\"\n",
              "                style=\"display:none;\">\n",
              "\n",
              "<svg xmlns=\"http://www.w3.org/2000/svg\" height=\"24px\"viewBox=\"0 0 24 24\"\n",
              "     width=\"24px\">\n",
              "    <g>\n",
              "        <path d=\"M19 3H5c-1.1 0-2 .9-2 2v14c0 1.1.9 2 2 2h14c1.1 0 2-.9 2-2V5c0-1.1-.9-2-2-2zM9 17H7v-7h2v7zm4 0h-2V7h2v10zm4 0h-2v-4h2v4z\"/>\n",
              "    </g>\n",
              "</svg>\n",
              "      </button>\n",
              "\n",
              "<style>\n",
              "  .colab-df-quickchart {\n",
              "      --bg-color: #E8F0FE;\n",
              "      --fill-color: #1967D2;\n",
              "      --hover-bg-color: #E2EBFA;\n",
              "      --hover-fill-color: #174EA6;\n",
              "      --disabled-fill-color: #AAA;\n",
              "      --disabled-bg-color: #DDD;\n",
              "  }\n",
              "\n",
              "  [theme=dark] .colab-df-quickchart {\n",
              "      --bg-color: #3B4455;\n",
              "      --fill-color: #D2E3FC;\n",
              "      --hover-bg-color: #434B5C;\n",
              "      --hover-fill-color: #FFFFFF;\n",
              "      --disabled-bg-color: #3B4455;\n",
              "      --disabled-fill-color: #666;\n",
              "  }\n",
              "\n",
              "  .colab-df-quickchart {\n",
              "    background-color: var(--bg-color);\n",
              "    border: none;\n",
              "    border-radius: 50%;\n",
              "    cursor: pointer;\n",
              "    display: none;\n",
              "    fill: var(--fill-color);\n",
              "    height: 32px;\n",
              "    padding: 0;\n",
              "    width: 32px;\n",
              "  }\n",
              "\n",
              "  .colab-df-quickchart:hover {\n",
              "    background-color: var(--hover-bg-color);\n",
              "    box-shadow: 0 1px 2px rgba(60, 64, 67, 0.3), 0 1px 3px 1px rgba(60, 64, 67, 0.15);\n",
              "    fill: var(--button-hover-fill-color);\n",
              "  }\n",
              "\n",
              "  .colab-df-quickchart-complete:disabled,\n",
              "  .colab-df-quickchart-complete:disabled:hover {\n",
              "    background-color: var(--disabled-bg-color);\n",
              "    fill: var(--disabled-fill-color);\n",
              "    box-shadow: none;\n",
              "  }\n",
              "\n",
              "  .colab-df-spinner {\n",
              "    border: 2px solid var(--fill-color);\n",
              "    border-color: transparent;\n",
              "    border-bottom-color: var(--fill-color);\n",
              "    animation:\n",
              "      spin 1s steps(1) infinite;\n",
              "  }\n",
              "\n",
              "  @keyframes spin {\n",
              "    0% {\n",
              "      border-color: transparent;\n",
              "      border-bottom-color: var(--fill-color);\n",
              "      border-left-color: var(--fill-color);\n",
              "    }\n",
              "    20% {\n",
              "      border-color: transparent;\n",
              "      border-left-color: var(--fill-color);\n",
              "      border-top-color: var(--fill-color);\n",
              "    }\n",
              "    30% {\n",
              "      border-color: transparent;\n",
              "      border-left-color: var(--fill-color);\n",
              "      border-top-color: var(--fill-color);\n",
              "      border-right-color: var(--fill-color);\n",
              "    }\n",
              "    40% {\n",
              "      border-color: transparent;\n",
              "      border-right-color: var(--fill-color);\n",
              "      border-top-color: var(--fill-color);\n",
              "    }\n",
              "    60% {\n",
              "      border-color: transparent;\n",
              "      border-right-color: var(--fill-color);\n",
              "    }\n",
              "    80% {\n",
              "      border-color: transparent;\n",
              "      border-right-color: var(--fill-color);\n",
              "      border-bottom-color: var(--fill-color);\n",
              "    }\n",
              "    90% {\n",
              "      border-color: transparent;\n",
              "      border-bottom-color: var(--fill-color);\n",
              "    }\n",
              "  }\n",
              "</style>\n",
              "\n",
              "      <script>\n",
              "        async function quickchart(key) {\n",
              "          const quickchartButtonEl =\n",
              "            document.querySelector('#' + key + ' button');\n",
              "          quickchartButtonEl.disabled = true;  // To prevent multiple clicks.\n",
              "          quickchartButtonEl.classList.add('colab-df-spinner');\n",
              "          try {\n",
              "            const charts = await google.colab.kernel.invokeFunction(\n",
              "                'suggestCharts', [key], {});\n",
              "          } catch (error) {\n",
              "            console.error('Error during call to suggestCharts:', error);\n",
              "          }\n",
              "          quickchartButtonEl.classList.remove('colab-df-spinner');\n",
              "          quickchartButtonEl.classList.add('colab-df-quickchart-complete');\n",
              "        }\n",
              "        (() => {\n",
              "          let quickchartButtonEl =\n",
              "            document.querySelector('#df-59141771-8f5e-4bd3-9990-0cfcc9e13b4e button');\n",
              "          quickchartButtonEl.style.display =\n",
              "            google.colab.kernel.accessAllowed ? 'block' : 'none';\n",
              "        })();\n",
              "      </script>\n",
              "    </div>\n",
              "\n",
              "    </div>\n",
              "  </div>\n"
            ],
            "application/vnd.google.colaboratory.intrinsic+json": {
              "type": "dataframe",
              "summary": "{\n  \"name\": \"df\",\n  \"rows\": 8,\n  \"fields\": [\n    {\n      \"column\": \"age\",\n      \"properties\": {\n        \"dtype\": \"number\",\n        \"std\": 10.858034525486168,\n        \"min\": 3.560466693696639,\n        \"max\": 40.0,\n        \"num_unique_values\": 8,\n        \"samples\": [\n          27.8,\n          27.0,\n          40.0\n        ],\n        \"semantic_type\": \"\",\n        \"description\": \"\"\n      }\n    },\n    {\n      \"column\": \"Mutual_Funds\",\n      \"properties\": {\n        \"dtype\": \"number\",\n        \"std\": 13.328440943057165,\n        \"min\": 1.0,\n        \"max\": 40.0,\n        \"num_unique_values\": 7,\n        \"samples\": [\n          40.0,\n          2.55,\n          3.0\n        ],\n        \"semantic_type\": \"\",\n        \"description\": \"\"\n      }\n    },\n    {\n      \"column\": \"Equity_Market\",\n      \"properties\": {\n        \"dtype\": \"number\",\n        \"std\": 13.100722848897934,\n        \"min\": 1.0,\n        \"max\": 40.0,\n        \"num_unique_values\": 7,\n        \"samples\": [\n          40.0,\n          3.475,\n          4.0\n        ],\n        \"semantic_type\": \"\",\n        \"description\": \"\"\n      }\n    },\n    {\n      \"column\": \"Debentures\",\n      \"properties\": {\n        \"dtype\": \"number\",\n        \"std\": 12.643437520427508,\n        \"min\": 1.0,\n        \"max\": 40.0,\n        \"num_unique_values\": 7,\n        \"samples\": [\n          40.0,\n          5.75,\n          6.5\n        ],\n        \"semantic_type\": \"\",\n        \"description\": \"\"\n      }\n    },\n    {\n      \"column\": \"Government_Bonds\",\n      \"properties\": {\n        \"dtype\": \"number\",\n        \"std\": 12.879510773386334,\n        \"min\": 1.0,\n        \"max\": 40.0,\n        \"num_unique_values\": 7,\n        \"samples\": [\n          40.0,\n          4.65,\n          5.0\n        ],\n        \"semantic_type\": \"\",\n        \"description\": \"\"\n      }\n    },\n    {\n      \"column\": \"Fixed_Deposits\",\n      \"properties\": {\n        \"dtype\": \"number\",\n        \"std\": 13.032030268880106,\n        \"min\": 1.0,\n        \"max\": 40.0,\n        \"num_unique_values\": 8,\n        \"samples\": [\n          3.575,\n          3.5,\n          40.0\n        ],\n        \"semantic_type\": \"\",\n        \"description\": \"\"\n      }\n    },\n    {\n      \"column\": \"PPF\",\n      \"properties\": {\n        \"dtype\": \"number\",\n        \"std\": 13.49190022025064,\n        \"min\": 1.0,\n        \"max\": 40.0,\n        \"num_unique_values\": 6,\n        \"samples\": [\n          40.0,\n          2.025,\n          6.0\n        ],\n        \"semantic_type\": \"\",\n        \"description\": \"\"\n      }\n    },\n    {\n      \"column\": \"Gold\",\n      \"properties\": {\n        \"dtype\": \"number\",\n        \"std\": 12.56789270092528,\n        \"min\": 1.1432634351063986,\n        \"max\": 40.0,\n        \"num_unique_values\": 6,\n        \"samples\": [\n          40.0,\n          5.975,\n          7.0\n        ],\n        \"semantic_type\": \"\",\n        \"description\": \"\"\n      }\n    }\n  ]\n}"
            }
          },
          "metadata": {},
          "execution_count": 6
        }
      ]
    },
    {
      "cell_type": "code",
      "source": [
        "df.head()"
      ],
      "metadata": {
        "colab": {
          "base_uri": "https://localhost:8080/",
          "height": 446
        },
        "id": "PGfqf9btYXpO",
        "outputId": "1e4cdf52-b99a-4358-e212-624c33883faf"
      },
      "execution_count": 7,
      "outputs": [
        {
          "output_type": "execute_result",
          "data": {
            "text/plain": [
              "   gender  age Investment_Avenues  Mutual_Funds  Equity_Market  Debentures  \\\n",
              "0  Female   34                Yes             1              2           5   \n",
              "1  Female   23                Yes             4              3           2   \n",
              "2    Male   30                Yes             3              6           4   \n",
              "3    Male   22                Yes             2              1           3   \n",
              "4  Female   24                 No             2              1           3   \n",
              "\n",
              "   Government_Bonds  Fixed_Deposits  PPF  Gold  ...           Duration  \\\n",
              "0                 3               7    6     4  ...          1-3 years   \n",
              "1                 1               5    6     7  ...  More than 5 years   \n",
              "2                 2               5    1     7  ...          3-5 years   \n",
              "3                 7               6    4     5  ...   Less than 1 year   \n",
              "4                 6               4    5     7  ...   Less than 1 year   \n",
              "\n",
              "  Invest_Monitor   Expect       Avenue What are your savings objectives?  \\\n",
              "0        Monthly  20%-30%  Mutual Fund                   Retirement Plan   \n",
              "1         Weekly  20%-30%  Mutual Fund                       Health Care   \n",
              "2          Daily  20%-30%       Equity                   Retirement Plan   \n",
              "3          Daily  10%-20%       Equity                   Retirement Plan   \n",
              "4          Daily  20%-30%       Equity                   Retirement Plan   \n",
              "\n",
              "          Reason_Equity         Reason_Mutual     Reason_Bonds  \\\n",
              "0  Capital Appreciation        Better Returns  Safe Investment   \n",
              "1              Dividend        Better Returns  Safe Investment   \n",
              "2  Capital Appreciation          Tax Benefits  Assured Returns   \n",
              "3              Dividend  Fund Diversification   Tax Incentives   \n",
              "4  Capital Appreciation        Better Returns  Safe Investment   \n",
              "\n",
              "             Reason_FD                    Source  \n",
              "0        Fixed Returns  Newspapers and Magazines  \n",
              "1  High Interest Rates     Financial Consultants  \n",
              "2        Fixed Returns                Television  \n",
              "3  High Interest Rates                  Internet  \n",
              "4            Risk Free                  Internet  \n",
              "\n",
              "[5 rows x 24 columns]"
            ],
            "text/html": [
              "\n",
              "  <div id=\"df-80eec0d7-b392-45a6-b5c3-ab8777f5b9b7\" class=\"colab-df-container\">\n",
              "    <div>\n",
              "<style scoped>\n",
              "    .dataframe tbody tr th:only-of-type {\n",
              "        vertical-align: middle;\n",
              "    }\n",
              "\n",
              "    .dataframe tbody tr th {\n",
              "        vertical-align: top;\n",
              "    }\n",
              "\n",
              "    .dataframe thead th {\n",
              "        text-align: right;\n",
              "    }\n",
              "</style>\n",
              "<table border=\"1\" class=\"dataframe\">\n",
              "  <thead>\n",
              "    <tr style=\"text-align: right;\">\n",
              "      <th></th>\n",
              "      <th>gender</th>\n",
              "      <th>age</th>\n",
              "      <th>Investment_Avenues</th>\n",
              "      <th>Mutual_Funds</th>\n",
              "      <th>Equity_Market</th>\n",
              "      <th>Debentures</th>\n",
              "      <th>Government_Bonds</th>\n",
              "      <th>Fixed_Deposits</th>\n",
              "      <th>PPF</th>\n",
              "      <th>Gold</th>\n",
              "      <th>...</th>\n",
              "      <th>Duration</th>\n",
              "      <th>Invest_Monitor</th>\n",
              "      <th>Expect</th>\n",
              "      <th>Avenue</th>\n",
              "      <th>What are your savings objectives?</th>\n",
              "      <th>Reason_Equity</th>\n",
              "      <th>Reason_Mutual</th>\n",
              "      <th>Reason_Bonds</th>\n",
              "      <th>Reason_FD</th>\n",
              "      <th>Source</th>\n",
              "    </tr>\n",
              "  </thead>\n",
              "  <tbody>\n",
              "    <tr>\n",
              "      <th>0</th>\n",
              "      <td>Female</td>\n",
              "      <td>34</td>\n",
              "      <td>Yes</td>\n",
              "      <td>1</td>\n",
              "      <td>2</td>\n",
              "      <td>5</td>\n",
              "      <td>3</td>\n",
              "      <td>7</td>\n",
              "      <td>6</td>\n",
              "      <td>4</td>\n",
              "      <td>...</td>\n",
              "      <td>1-3 years</td>\n",
              "      <td>Monthly</td>\n",
              "      <td>20%-30%</td>\n",
              "      <td>Mutual Fund</td>\n",
              "      <td>Retirement Plan</td>\n",
              "      <td>Capital Appreciation</td>\n",
              "      <td>Better Returns</td>\n",
              "      <td>Safe Investment</td>\n",
              "      <td>Fixed Returns</td>\n",
              "      <td>Newspapers and Magazines</td>\n",
              "    </tr>\n",
              "    <tr>\n",
              "      <th>1</th>\n",
              "      <td>Female</td>\n",
              "      <td>23</td>\n",
              "      <td>Yes</td>\n",
              "      <td>4</td>\n",
              "      <td>3</td>\n",
              "      <td>2</td>\n",
              "      <td>1</td>\n",
              "      <td>5</td>\n",
              "      <td>6</td>\n",
              "      <td>7</td>\n",
              "      <td>...</td>\n",
              "      <td>More than 5 years</td>\n",
              "      <td>Weekly</td>\n",
              "      <td>20%-30%</td>\n",
              "      <td>Mutual Fund</td>\n",
              "      <td>Health Care</td>\n",
              "      <td>Dividend</td>\n",
              "      <td>Better Returns</td>\n",
              "      <td>Safe Investment</td>\n",
              "      <td>High Interest Rates</td>\n",
              "      <td>Financial Consultants</td>\n",
              "    </tr>\n",
              "    <tr>\n",
              "      <th>2</th>\n",
              "      <td>Male</td>\n",
              "      <td>30</td>\n",
              "      <td>Yes</td>\n",
              "      <td>3</td>\n",
              "      <td>6</td>\n",
              "      <td>4</td>\n",
              "      <td>2</td>\n",
              "      <td>5</td>\n",
              "      <td>1</td>\n",
              "      <td>7</td>\n",
              "      <td>...</td>\n",
              "      <td>3-5 years</td>\n",
              "      <td>Daily</td>\n",
              "      <td>20%-30%</td>\n",
              "      <td>Equity</td>\n",
              "      <td>Retirement Plan</td>\n",
              "      <td>Capital Appreciation</td>\n",
              "      <td>Tax Benefits</td>\n",
              "      <td>Assured Returns</td>\n",
              "      <td>Fixed Returns</td>\n",
              "      <td>Television</td>\n",
              "    </tr>\n",
              "    <tr>\n",
              "      <th>3</th>\n",
              "      <td>Male</td>\n",
              "      <td>22</td>\n",
              "      <td>Yes</td>\n",
              "      <td>2</td>\n",
              "      <td>1</td>\n",
              "      <td>3</td>\n",
              "      <td>7</td>\n",
              "      <td>6</td>\n",
              "      <td>4</td>\n",
              "      <td>5</td>\n",
              "      <td>...</td>\n",
              "      <td>Less than 1 year</td>\n",
              "      <td>Daily</td>\n",
              "      <td>10%-20%</td>\n",
              "      <td>Equity</td>\n",
              "      <td>Retirement Plan</td>\n",
              "      <td>Dividend</td>\n",
              "      <td>Fund Diversification</td>\n",
              "      <td>Tax Incentives</td>\n",
              "      <td>High Interest Rates</td>\n",
              "      <td>Internet</td>\n",
              "    </tr>\n",
              "    <tr>\n",
              "      <th>4</th>\n",
              "      <td>Female</td>\n",
              "      <td>24</td>\n",
              "      <td>No</td>\n",
              "      <td>2</td>\n",
              "      <td>1</td>\n",
              "      <td>3</td>\n",
              "      <td>6</td>\n",
              "      <td>4</td>\n",
              "      <td>5</td>\n",
              "      <td>7</td>\n",
              "      <td>...</td>\n",
              "      <td>Less than 1 year</td>\n",
              "      <td>Daily</td>\n",
              "      <td>20%-30%</td>\n",
              "      <td>Equity</td>\n",
              "      <td>Retirement Plan</td>\n",
              "      <td>Capital Appreciation</td>\n",
              "      <td>Better Returns</td>\n",
              "      <td>Safe Investment</td>\n",
              "      <td>Risk Free</td>\n",
              "      <td>Internet</td>\n",
              "    </tr>\n",
              "  </tbody>\n",
              "</table>\n",
              "<p>5 rows × 24 columns</p>\n",
              "</div>\n",
              "    <div class=\"colab-df-buttons\">\n",
              "\n",
              "  <div class=\"colab-df-container\">\n",
              "    <button class=\"colab-df-convert\" onclick=\"convertToInteractive('df-80eec0d7-b392-45a6-b5c3-ab8777f5b9b7')\"\n",
              "            title=\"Convert this dataframe to an interactive table.\"\n",
              "            style=\"display:none;\">\n",
              "\n",
              "  <svg xmlns=\"http://www.w3.org/2000/svg\" height=\"24px\" viewBox=\"0 -960 960 960\">\n",
              "    <path d=\"M120-120v-720h720v720H120Zm60-500h600v-160H180v160Zm220 220h160v-160H400v160Zm0 220h160v-160H400v160ZM180-400h160v-160H180v160Zm440 0h160v-160H620v160ZM180-180h160v-160H180v160Zm440 0h160v-160H620v160Z\"/>\n",
              "  </svg>\n",
              "    </button>\n",
              "\n",
              "  <style>\n",
              "    .colab-df-container {\n",
              "      display:flex;\n",
              "      gap: 12px;\n",
              "    }\n",
              "\n",
              "    .colab-df-convert {\n",
              "      background-color: #E8F0FE;\n",
              "      border: none;\n",
              "      border-radius: 50%;\n",
              "      cursor: pointer;\n",
              "      display: none;\n",
              "      fill: #1967D2;\n",
              "      height: 32px;\n",
              "      padding: 0 0 0 0;\n",
              "      width: 32px;\n",
              "    }\n",
              "\n",
              "    .colab-df-convert:hover {\n",
              "      background-color: #E2EBFA;\n",
              "      box-shadow: 0px 1px 2px rgba(60, 64, 67, 0.3), 0px 1px 3px 1px rgba(60, 64, 67, 0.15);\n",
              "      fill: #174EA6;\n",
              "    }\n",
              "\n",
              "    .colab-df-buttons div {\n",
              "      margin-bottom: 4px;\n",
              "    }\n",
              "\n",
              "    [theme=dark] .colab-df-convert {\n",
              "      background-color: #3B4455;\n",
              "      fill: #D2E3FC;\n",
              "    }\n",
              "\n",
              "    [theme=dark] .colab-df-convert:hover {\n",
              "      background-color: #434B5C;\n",
              "      box-shadow: 0px 1px 3px 1px rgba(0, 0, 0, 0.15);\n",
              "      filter: drop-shadow(0px 1px 2px rgba(0, 0, 0, 0.3));\n",
              "      fill: #FFFFFF;\n",
              "    }\n",
              "  </style>\n",
              "\n",
              "    <script>\n",
              "      const buttonEl =\n",
              "        document.querySelector('#df-80eec0d7-b392-45a6-b5c3-ab8777f5b9b7 button.colab-df-convert');\n",
              "      buttonEl.style.display =\n",
              "        google.colab.kernel.accessAllowed ? 'block' : 'none';\n",
              "\n",
              "      async function convertToInteractive(key) {\n",
              "        const element = document.querySelector('#df-80eec0d7-b392-45a6-b5c3-ab8777f5b9b7');\n",
              "        const dataTable =\n",
              "          await google.colab.kernel.invokeFunction('convertToInteractive',\n",
              "                                                    [key], {});\n",
              "        if (!dataTable) return;\n",
              "\n",
              "        const docLinkHtml = 'Like what you see? Visit the ' +\n",
              "          '<a target=\"_blank\" href=https://colab.research.google.com/notebooks/data_table.ipynb>data table notebook</a>'\n",
              "          + ' to learn more about interactive tables.';\n",
              "        element.innerHTML = '';\n",
              "        dataTable['output_type'] = 'display_data';\n",
              "        await google.colab.output.renderOutput(dataTable, element);\n",
              "        const docLink = document.createElement('div');\n",
              "        docLink.innerHTML = docLinkHtml;\n",
              "        element.appendChild(docLink);\n",
              "      }\n",
              "    </script>\n",
              "  </div>\n",
              "\n",
              "\n",
              "    <div id=\"df-818c9d46-56eb-4102-b414-446f98f1cd08\">\n",
              "      <button class=\"colab-df-quickchart\" onclick=\"quickchart('df-818c9d46-56eb-4102-b414-446f98f1cd08')\"\n",
              "                title=\"Suggest charts\"\n",
              "                style=\"display:none;\">\n",
              "\n",
              "<svg xmlns=\"http://www.w3.org/2000/svg\" height=\"24px\"viewBox=\"0 0 24 24\"\n",
              "     width=\"24px\">\n",
              "    <g>\n",
              "        <path d=\"M19 3H5c-1.1 0-2 .9-2 2v14c0 1.1.9 2 2 2h14c1.1 0 2-.9 2-2V5c0-1.1-.9-2-2-2zM9 17H7v-7h2v7zm4 0h-2V7h2v10zm4 0h-2v-4h2v4z\"/>\n",
              "    </g>\n",
              "</svg>\n",
              "      </button>\n",
              "\n",
              "<style>\n",
              "  .colab-df-quickchart {\n",
              "      --bg-color: #E8F0FE;\n",
              "      --fill-color: #1967D2;\n",
              "      --hover-bg-color: #E2EBFA;\n",
              "      --hover-fill-color: #174EA6;\n",
              "      --disabled-fill-color: #AAA;\n",
              "      --disabled-bg-color: #DDD;\n",
              "  }\n",
              "\n",
              "  [theme=dark] .colab-df-quickchart {\n",
              "      --bg-color: #3B4455;\n",
              "      --fill-color: #D2E3FC;\n",
              "      --hover-bg-color: #434B5C;\n",
              "      --hover-fill-color: #FFFFFF;\n",
              "      --disabled-bg-color: #3B4455;\n",
              "      --disabled-fill-color: #666;\n",
              "  }\n",
              "\n",
              "  .colab-df-quickchart {\n",
              "    background-color: var(--bg-color);\n",
              "    border: none;\n",
              "    border-radius: 50%;\n",
              "    cursor: pointer;\n",
              "    display: none;\n",
              "    fill: var(--fill-color);\n",
              "    height: 32px;\n",
              "    padding: 0;\n",
              "    width: 32px;\n",
              "  }\n",
              "\n",
              "  .colab-df-quickchart:hover {\n",
              "    background-color: var(--hover-bg-color);\n",
              "    box-shadow: 0 1px 2px rgba(60, 64, 67, 0.3), 0 1px 3px 1px rgba(60, 64, 67, 0.15);\n",
              "    fill: var(--button-hover-fill-color);\n",
              "  }\n",
              "\n",
              "  .colab-df-quickchart-complete:disabled,\n",
              "  .colab-df-quickchart-complete:disabled:hover {\n",
              "    background-color: var(--disabled-bg-color);\n",
              "    fill: var(--disabled-fill-color);\n",
              "    box-shadow: none;\n",
              "  }\n",
              "\n",
              "  .colab-df-spinner {\n",
              "    border: 2px solid var(--fill-color);\n",
              "    border-color: transparent;\n",
              "    border-bottom-color: var(--fill-color);\n",
              "    animation:\n",
              "      spin 1s steps(1) infinite;\n",
              "  }\n",
              "\n",
              "  @keyframes spin {\n",
              "    0% {\n",
              "      border-color: transparent;\n",
              "      border-bottom-color: var(--fill-color);\n",
              "      border-left-color: var(--fill-color);\n",
              "    }\n",
              "    20% {\n",
              "      border-color: transparent;\n",
              "      border-left-color: var(--fill-color);\n",
              "      border-top-color: var(--fill-color);\n",
              "    }\n",
              "    30% {\n",
              "      border-color: transparent;\n",
              "      border-left-color: var(--fill-color);\n",
              "      border-top-color: var(--fill-color);\n",
              "      border-right-color: var(--fill-color);\n",
              "    }\n",
              "    40% {\n",
              "      border-color: transparent;\n",
              "      border-right-color: var(--fill-color);\n",
              "      border-top-color: var(--fill-color);\n",
              "    }\n",
              "    60% {\n",
              "      border-color: transparent;\n",
              "      border-right-color: var(--fill-color);\n",
              "    }\n",
              "    80% {\n",
              "      border-color: transparent;\n",
              "      border-right-color: var(--fill-color);\n",
              "      border-bottom-color: var(--fill-color);\n",
              "    }\n",
              "    90% {\n",
              "      border-color: transparent;\n",
              "      border-bottom-color: var(--fill-color);\n",
              "    }\n",
              "  }\n",
              "</style>\n",
              "\n",
              "      <script>\n",
              "        async function quickchart(key) {\n",
              "          const quickchartButtonEl =\n",
              "            document.querySelector('#' + key + ' button');\n",
              "          quickchartButtonEl.disabled = true;  // To prevent multiple clicks.\n",
              "          quickchartButtonEl.classList.add('colab-df-spinner');\n",
              "          try {\n",
              "            const charts = await google.colab.kernel.invokeFunction(\n",
              "                'suggestCharts', [key], {});\n",
              "          } catch (error) {\n",
              "            console.error('Error during call to suggestCharts:', error);\n",
              "          }\n",
              "          quickchartButtonEl.classList.remove('colab-df-spinner');\n",
              "          quickchartButtonEl.classList.add('colab-df-quickchart-complete');\n",
              "        }\n",
              "        (() => {\n",
              "          let quickchartButtonEl =\n",
              "            document.querySelector('#df-818c9d46-56eb-4102-b414-446f98f1cd08 button');\n",
              "          quickchartButtonEl.style.display =\n",
              "            google.colab.kernel.accessAllowed ? 'block' : 'none';\n",
              "        })();\n",
              "      </script>\n",
              "    </div>\n",
              "\n",
              "    </div>\n",
              "  </div>\n"
            ],
            "application/vnd.google.colaboratory.intrinsic+json": {
              "type": "dataframe",
              "variable_name": "df"
            }
          },
          "metadata": {},
          "execution_count": 7
        }
      ]
    },
    {
      "cell_type": "code",
      "source": [
        "df.tail()"
      ],
      "metadata": {
        "colab": {
          "base_uri": "https://localhost:8080/",
          "height": 446
        },
        "id": "YE9XJm6FYZnn",
        "outputId": "8c1c4910-3198-46f4-a9f0-cbbd556c0bd4"
      },
      "execution_count": 8,
      "outputs": [
        {
          "output_type": "execute_result",
          "data": {
            "text/plain": [
              "   gender  age Investment_Avenues  Mutual_Funds  Equity_Market  Debentures  \\\n",
              "35   Male   30                Yes             1              4           6   \n",
              "36   Male   30                Yes             2              4           7   \n",
              "37   Male   25                Yes             5              4           7   \n",
              "38   Male   31                Yes             2              4           7   \n",
              "39   Male   29                Yes             4              3           5   \n",
              "\n",
              "    Government_Bonds  Fixed_Deposits  PPF  Gold  ...   Duration  \\\n",
              "35                 5               3    2     7  ...  3-5 years   \n",
              "36                 5               1    3     6  ...  1-3 years   \n",
              "37                 6               1    2     3  ...  3-5 years   \n",
              "38                 5               3    1     6  ...  1-3 years   \n",
              "39                 7               2    1     6  ...  3-5 years   \n",
              "\n",
              "   Invest_Monitor   Expect                 Avenue  \\\n",
              "35        Monthly  20%-30%         Fixed Deposits   \n",
              "36        Monthly  20%-30%                 Equity   \n",
              "37        Monthly  30%-40%  Public Provident Fund   \n",
              "38         Weekly  20%-30%                 Equity   \n",
              "39        Monthly  20%-30%         Fixed Deposits   \n",
              "\n",
              "   What are your savings objectives?         Reason_Equity  \\\n",
              "35                       Health Care  Capital Appreciation   \n",
              "36                   Retirement Plan  Capital Appreciation   \n",
              "37                       Health Care  Capital Appreciation   \n",
              "38                       Health Care              Dividend   \n",
              "39                   Retirement Plan              Dividend   \n",
              "\n",
              "           Reason_Mutual     Reason_Bonds      Reason_FD  \\\n",
              "35        Better Returns  Assured Returns  Fixed Returns   \n",
              "36        Better Returns  Assured Returns      Risk Free   \n",
              "37        Better Returns  Safe Investment  Fixed Returns   \n",
              "38  Fund Diversification  Assured Returns  Fixed Returns   \n",
              "39        Better Returns  Safe Investment  Fixed Returns   \n",
              "\n",
              "                      Source  \n",
              "35     Financial Consultants  \n",
              "36  Newspapers and Magazines  \n",
              "37     Financial Consultants  \n",
              "38  Newspapers and Magazines  \n",
              "39     Financial Consultants  \n",
              "\n",
              "[5 rows x 24 columns]"
            ],
            "text/html": [
              "\n",
              "  <div id=\"df-016946ba-b0e5-47b9-b7c7-9367d8b0fd87\" class=\"colab-df-container\">\n",
              "    <div>\n",
              "<style scoped>\n",
              "    .dataframe tbody tr th:only-of-type {\n",
              "        vertical-align: middle;\n",
              "    }\n",
              "\n",
              "    .dataframe tbody tr th {\n",
              "        vertical-align: top;\n",
              "    }\n",
              "\n",
              "    .dataframe thead th {\n",
              "        text-align: right;\n",
              "    }\n",
              "</style>\n",
              "<table border=\"1\" class=\"dataframe\">\n",
              "  <thead>\n",
              "    <tr style=\"text-align: right;\">\n",
              "      <th></th>\n",
              "      <th>gender</th>\n",
              "      <th>age</th>\n",
              "      <th>Investment_Avenues</th>\n",
              "      <th>Mutual_Funds</th>\n",
              "      <th>Equity_Market</th>\n",
              "      <th>Debentures</th>\n",
              "      <th>Government_Bonds</th>\n",
              "      <th>Fixed_Deposits</th>\n",
              "      <th>PPF</th>\n",
              "      <th>Gold</th>\n",
              "      <th>...</th>\n",
              "      <th>Duration</th>\n",
              "      <th>Invest_Monitor</th>\n",
              "      <th>Expect</th>\n",
              "      <th>Avenue</th>\n",
              "      <th>What are your savings objectives?</th>\n",
              "      <th>Reason_Equity</th>\n",
              "      <th>Reason_Mutual</th>\n",
              "      <th>Reason_Bonds</th>\n",
              "      <th>Reason_FD</th>\n",
              "      <th>Source</th>\n",
              "    </tr>\n",
              "  </thead>\n",
              "  <tbody>\n",
              "    <tr>\n",
              "      <th>35</th>\n",
              "      <td>Male</td>\n",
              "      <td>30</td>\n",
              "      <td>Yes</td>\n",
              "      <td>1</td>\n",
              "      <td>4</td>\n",
              "      <td>6</td>\n",
              "      <td>5</td>\n",
              "      <td>3</td>\n",
              "      <td>2</td>\n",
              "      <td>7</td>\n",
              "      <td>...</td>\n",
              "      <td>3-5 years</td>\n",
              "      <td>Monthly</td>\n",
              "      <td>20%-30%</td>\n",
              "      <td>Fixed Deposits</td>\n",
              "      <td>Health Care</td>\n",
              "      <td>Capital Appreciation</td>\n",
              "      <td>Better Returns</td>\n",
              "      <td>Assured Returns</td>\n",
              "      <td>Fixed Returns</td>\n",
              "      <td>Financial Consultants</td>\n",
              "    </tr>\n",
              "    <tr>\n",
              "      <th>36</th>\n",
              "      <td>Male</td>\n",
              "      <td>30</td>\n",
              "      <td>Yes</td>\n",
              "      <td>2</td>\n",
              "      <td>4</td>\n",
              "      <td>7</td>\n",
              "      <td>5</td>\n",
              "      <td>1</td>\n",
              "      <td>3</td>\n",
              "      <td>6</td>\n",
              "      <td>...</td>\n",
              "      <td>1-3 years</td>\n",
              "      <td>Monthly</td>\n",
              "      <td>20%-30%</td>\n",
              "      <td>Equity</td>\n",
              "      <td>Retirement Plan</td>\n",
              "      <td>Capital Appreciation</td>\n",
              "      <td>Better Returns</td>\n",
              "      <td>Assured Returns</td>\n",
              "      <td>Risk Free</td>\n",
              "      <td>Newspapers and Magazines</td>\n",
              "    </tr>\n",
              "    <tr>\n",
              "      <th>37</th>\n",
              "      <td>Male</td>\n",
              "      <td>25</td>\n",
              "      <td>Yes</td>\n",
              "      <td>5</td>\n",
              "      <td>4</td>\n",
              "      <td>7</td>\n",
              "      <td>6</td>\n",
              "      <td>1</td>\n",
              "      <td>2</td>\n",
              "      <td>3</td>\n",
              "      <td>...</td>\n",
              "      <td>3-5 years</td>\n",
              "      <td>Monthly</td>\n",
              "      <td>30%-40%</td>\n",
              "      <td>Public Provident Fund</td>\n",
              "      <td>Health Care</td>\n",
              "      <td>Capital Appreciation</td>\n",
              "      <td>Better Returns</td>\n",
              "      <td>Safe Investment</td>\n",
              "      <td>Fixed Returns</td>\n",
              "      <td>Financial Consultants</td>\n",
              "    </tr>\n",
              "    <tr>\n",
              "      <th>38</th>\n",
              "      <td>Male</td>\n",
              "      <td>31</td>\n",
              "      <td>Yes</td>\n",
              "      <td>2</td>\n",
              "      <td>4</td>\n",
              "      <td>7</td>\n",
              "      <td>5</td>\n",
              "      <td>3</td>\n",
              "      <td>1</td>\n",
              "      <td>6</td>\n",
              "      <td>...</td>\n",
              "      <td>1-3 years</td>\n",
              "      <td>Weekly</td>\n",
              "      <td>20%-30%</td>\n",
              "      <td>Equity</td>\n",
              "      <td>Health Care</td>\n",
              "      <td>Dividend</td>\n",
              "      <td>Fund Diversification</td>\n",
              "      <td>Assured Returns</td>\n",
              "      <td>Fixed Returns</td>\n",
              "      <td>Newspapers and Magazines</td>\n",
              "    </tr>\n",
              "    <tr>\n",
              "      <th>39</th>\n",
              "      <td>Male</td>\n",
              "      <td>29</td>\n",
              "      <td>Yes</td>\n",
              "      <td>4</td>\n",
              "      <td>3</td>\n",
              "      <td>5</td>\n",
              "      <td>7</td>\n",
              "      <td>2</td>\n",
              "      <td>1</td>\n",
              "      <td>6</td>\n",
              "      <td>...</td>\n",
              "      <td>3-5 years</td>\n",
              "      <td>Monthly</td>\n",
              "      <td>20%-30%</td>\n",
              "      <td>Fixed Deposits</td>\n",
              "      <td>Retirement Plan</td>\n",
              "      <td>Dividend</td>\n",
              "      <td>Better Returns</td>\n",
              "      <td>Safe Investment</td>\n",
              "      <td>Fixed Returns</td>\n",
              "      <td>Financial Consultants</td>\n",
              "    </tr>\n",
              "  </tbody>\n",
              "</table>\n",
              "<p>5 rows × 24 columns</p>\n",
              "</div>\n",
              "    <div class=\"colab-df-buttons\">\n",
              "\n",
              "  <div class=\"colab-df-container\">\n",
              "    <button class=\"colab-df-convert\" onclick=\"convertToInteractive('df-016946ba-b0e5-47b9-b7c7-9367d8b0fd87')\"\n",
              "            title=\"Convert this dataframe to an interactive table.\"\n",
              "            style=\"display:none;\">\n",
              "\n",
              "  <svg xmlns=\"http://www.w3.org/2000/svg\" height=\"24px\" viewBox=\"0 -960 960 960\">\n",
              "    <path d=\"M120-120v-720h720v720H120Zm60-500h600v-160H180v160Zm220 220h160v-160H400v160Zm0 220h160v-160H400v160ZM180-400h160v-160H180v160Zm440 0h160v-160H620v160ZM180-180h160v-160H180v160Zm440 0h160v-160H620v160Z\"/>\n",
              "  </svg>\n",
              "    </button>\n",
              "\n",
              "  <style>\n",
              "    .colab-df-container {\n",
              "      display:flex;\n",
              "      gap: 12px;\n",
              "    }\n",
              "\n",
              "    .colab-df-convert {\n",
              "      background-color: #E8F0FE;\n",
              "      border: none;\n",
              "      border-radius: 50%;\n",
              "      cursor: pointer;\n",
              "      display: none;\n",
              "      fill: #1967D2;\n",
              "      height: 32px;\n",
              "      padding: 0 0 0 0;\n",
              "      width: 32px;\n",
              "    }\n",
              "\n",
              "    .colab-df-convert:hover {\n",
              "      background-color: #E2EBFA;\n",
              "      box-shadow: 0px 1px 2px rgba(60, 64, 67, 0.3), 0px 1px 3px 1px rgba(60, 64, 67, 0.15);\n",
              "      fill: #174EA6;\n",
              "    }\n",
              "\n",
              "    .colab-df-buttons div {\n",
              "      margin-bottom: 4px;\n",
              "    }\n",
              "\n",
              "    [theme=dark] .colab-df-convert {\n",
              "      background-color: #3B4455;\n",
              "      fill: #D2E3FC;\n",
              "    }\n",
              "\n",
              "    [theme=dark] .colab-df-convert:hover {\n",
              "      background-color: #434B5C;\n",
              "      box-shadow: 0px 1px 3px 1px rgba(0, 0, 0, 0.15);\n",
              "      filter: drop-shadow(0px 1px 2px rgba(0, 0, 0, 0.3));\n",
              "      fill: #FFFFFF;\n",
              "    }\n",
              "  </style>\n",
              "\n",
              "    <script>\n",
              "      const buttonEl =\n",
              "        document.querySelector('#df-016946ba-b0e5-47b9-b7c7-9367d8b0fd87 button.colab-df-convert');\n",
              "      buttonEl.style.display =\n",
              "        google.colab.kernel.accessAllowed ? 'block' : 'none';\n",
              "\n",
              "      async function convertToInteractive(key) {\n",
              "        const element = document.querySelector('#df-016946ba-b0e5-47b9-b7c7-9367d8b0fd87');\n",
              "        const dataTable =\n",
              "          await google.colab.kernel.invokeFunction('convertToInteractive',\n",
              "                                                    [key], {});\n",
              "        if (!dataTable) return;\n",
              "\n",
              "        const docLinkHtml = 'Like what you see? Visit the ' +\n",
              "          '<a target=\"_blank\" href=https://colab.research.google.com/notebooks/data_table.ipynb>data table notebook</a>'\n",
              "          + ' to learn more about interactive tables.';\n",
              "        element.innerHTML = '';\n",
              "        dataTable['output_type'] = 'display_data';\n",
              "        await google.colab.output.renderOutput(dataTable, element);\n",
              "        const docLink = document.createElement('div');\n",
              "        docLink.innerHTML = docLinkHtml;\n",
              "        element.appendChild(docLink);\n",
              "      }\n",
              "    </script>\n",
              "  </div>\n",
              "\n",
              "\n",
              "    <div id=\"df-14316937-f73c-4cb4-a6b6-ee914ca05cd1\">\n",
              "      <button class=\"colab-df-quickchart\" onclick=\"quickchart('df-14316937-f73c-4cb4-a6b6-ee914ca05cd1')\"\n",
              "                title=\"Suggest charts\"\n",
              "                style=\"display:none;\">\n",
              "\n",
              "<svg xmlns=\"http://www.w3.org/2000/svg\" height=\"24px\"viewBox=\"0 0 24 24\"\n",
              "     width=\"24px\">\n",
              "    <g>\n",
              "        <path d=\"M19 3H5c-1.1 0-2 .9-2 2v14c0 1.1.9 2 2 2h14c1.1 0 2-.9 2-2V5c0-1.1-.9-2-2-2zM9 17H7v-7h2v7zm4 0h-2V7h2v10zm4 0h-2v-4h2v4z\"/>\n",
              "    </g>\n",
              "</svg>\n",
              "      </button>\n",
              "\n",
              "<style>\n",
              "  .colab-df-quickchart {\n",
              "      --bg-color: #E8F0FE;\n",
              "      --fill-color: #1967D2;\n",
              "      --hover-bg-color: #E2EBFA;\n",
              "      --hover-fill-color: #174EA6;\n",
              "      --disabled-fill-color: #AAA;\n",
              "      --disabled-bg-color: #DDD;\n",
              "  }\n",
              "\n",
              "  [theme=dark] .colab-df-quickchart {\n",
              "      --bg-color: #3B4455;\n",
              "      --fill-color: #D2E3FC;\n",
              "      --hover-bg-color: #434B5C;\n",
              "      --hover-fill-color: #FFFFFF;\n",
              "      --disabled-bg-color: #3B4455;\n",
              "      --disabled-fill-color: #666;\n",
              "  }\n",
              "\n",
              "  .colab-df-quickchart {\n",
              "    background-color: var(--bg-color);\n",
              "    border: none;\n",
              "    border-radius: 50%;\n",
              "    cursor: pointer;\n",
              "    display: none;\n",
              "    fill: var(--fill-color);\n",
              "    height: 32px;\n",
              "    padding: 0;\n",
              "    width: 32px;\n",
              "  }\n",
              "\n",
              "  .colab-df-quickchart:hover {\n",
              "    background-color: var(--hover-bg-color);\n",
              "    box-shadow: 0 1px 2px rgba(60, 64, 67, 0.3), 0 1px 3px 1px rgba(60, 64, 67, 0.15);\n",
              "    fill: var(--button-hover-fill-color);\n",
              "  }\n",
              "\n",
              "  .colab-df-quickchart-complete:disabled,\n",
              "  .colab-df-quickchart-complete:disabled:hover {\n",
              "    background-color: var(--disabled-bg-color);\n",
              "    fill: var(--disabled-fill-color);\n",
              "    box-shadow: none;\n",
              "  }\n",
              "\n",
              "  .colab-df-spinner {\n",
              "    border: 2px solid var(--fill-color);\n",
              "    border-color: transparent;\n",
              "    border-bottom-color: var(--fill-color);\n",
              "    animation:\n",
              "      spin 1s steps(1) infinite;\n",
              "  }\n",
              "\n",
              "  @keyframes spin {\n",
              "    0% {\n",
              "      border-color: transparent;\n",
              "      border-bottom-color: var(--fill-color);\n",
              "      border-left-color: var(--fill-color);\n",
              "    }\n",
              "    20% {\n",
              "      border-color: transparent;\n",
              "      border-left-color: var(--fill-color);\n",
              "      border-top-color: var(--fill-color);\n",
              "    }\n",
              "    30% {\n",
              "      border-color: transparent;\n",
              "      border-left-color: var(--fill-color);\n",
              "      border-top-color: var(--fill-color);\n",
              "      border-right-color: var(--fill-color);\n",
              "    }\n",
              "    40% {\n",
              "      border-color: transparent;\n",
              "      border-right-color: var(--fill-color);\n",
              "      border-top-color: var(--fill-color);\n",
              "    }\n",
              "    60% {\n",
              "      border-color: transparent;\n",
              "      border-right-color: var(--fill-color);\n",
              "    }\n",
              "    80% {\n",
              "      border-color: transparent;\n",
              "      border-right-color: var(--fill-color);\n",
              "      border-bottom-color: var(--fill-color);\n",
              "    }\n",
              "    90% {\n",
              "      border-color: transparent;\n",
              "      border-bottom-color: var(--fill-color);\n",
              "    }\n",
              "  }\n",
              "</style>\n",
              "\n",
              "      <script>\n",
              "        async function quickchart(key) {\n",
              "          const quickchartButtonEl =\n",
              "            document.querySelector('#' + key + ' button');\n",
              "          quickchartButtonEl.disabled = true;  // To prevent multiple clicks.\n",
              "          quickchartButtonEl.classList.add('colab-df-spinner');\n",
              "          try {\n",
              "            const charts = await google.colab.kernel.invokeFunction(\n",
              "                'suggestCharts', [key], {});\n",
              "          } catch (error) {\n",
              "            console.error('Error during call to suggestCharts:', error);\n",
              "          }\n",
              "          quickchartButtonEl.classList.remove('colab-df-spinner');\n",
              "          quickchartButtonEl.classList.add('colab-df-quickchart-complete');\n",
              "        }\n",
              "        (() => {\n",
              "          let quickchartButtonEl =\n",
              "            document.querySelector('#df-14316937-f73c-4cb4-a6b6-ee914ca05cd1 button');\n",
              "          quickchartButtonEl.style.display =\n",
              "            google.colab.kernel.accessAllowed ? 'block' : 'none';\n",
              "        })();\n",
              "      </script>\n",
              "    </div>\n",
              "\n",
              "    </div>\n",
              "  </div>\n"
            ],
            "application/vnd.google.colaboratory.intrinsic+json": {
              "type": "dataframe"
            }
          },
          "metadata": {},
          "execution_count": 8
        }
      ]
    },
    {
      "cell_type": "markdown",
      "source": [
        "4.Check for Missing Values"
      ],
      "metadata": {
        "id": "BtAAzLAvZ7Wx"
      }
    },
    {
      "cell_type": "code",
      "source": [
        "df.isnull().sum()"
      ],
      "metadata": {
        "colab": {
          "base_uri": "https://localhost:8080/",
          "height": 836
        },
        "id": "n6BAxWHHYc4J",
        "outputId": "4360030f-41b8-49cd-d2f6-a01831b51830"
      },
      "execution_count": 9,
      "outputs": [
        {
          "output_type": "execute_result",
          "data": {
            "text/plain": [
              "gender                               0\n",
              "age                                  0\n",
              "Investment_Avenues                   0\n",
              "Mutual_Funds                         0\n",
              "Equity_Market                        0\n",
              "Debentures                           0\n",
              "Government_Bonds                     0\n",
              "Fixed_Deposits                       0\n",
              "PPF                                  0\n",
              "Gold                                 0\n",
              "Stock_Marktet                        0\n",
              "Factor                               0\n",
              "Objective                            0\n",
              "Purpose                              0\n",
              "Duration                             0\n",
              "Invest_Monitor                       0\n",
              "Expect                               0\n",
              "Avenue                               0\n",
              "What are your savings objectives?    0\n",
              "Reason_Equity                        0\n",
              "Reason_Mutual                        0\n",
              "Reason_Bonds                         0\n",
              "Reason_FD                            0\n",
              "Source                               0\n",
              "dtype: int64"
            ],
            "text/html": [
              "<div>\n",
              "<style scoped>\n",
              "    .dataframe tbody tr th:only-of-type {\n",
              "        vertical-align: middle;\n",
              "    }\n",
              "\n",
              "    .dataframe tbody tr th {\n",
              "        vertical-align: top;\n",
              "    }\n",
              "\n",
              "    .dataframe thead th {\n",
              "        text-align: right;\n",
              "    }\n",
              "</style>\n",
              "<table border=\"1\" class=\"dataframe\">\n",
              "  <thead>\n",
              "    <tr style=\"text-align: right;\">\n",
              "      <th></th>\n",
              "      <th>0</th>\n",
              "    </tr>\n",
              "  </thead>\n",
              "  <tbody>\n",
              "    <tr>\n",
              "      <th>gender</th>\n",
              "      <td>0</td>\n",
              "    </tr>\n",
              "    <tr>\n",
              "      <th>age</th>\n",
              "      <td>0</td>\n",
              "    </tr>\n",
              "    <tr>\n",
              "      <th>Investment_Avenues</th>\n",
              "      <td>0</td>\n",
              "    </tr>\n",
              "    <tr>\n",
              "      <th>Mutual_Funds</th>\n",
              "      <td>0</td>\n",
              "    </tr>\n",
              "    <tr>\n",
              "      <th>Equity_Market</th>\n",
              "      <td>0</td>\n",
              "    </tr>\n",
              "    <tr>\n",
              "      <th>Debentures</th>\n",
              "      <td>0</td>\n",
              "    </tr>\n",
              "    <tr>\n",
              "      <th>Government_Bonds</th>\n",
              "      <td>0</td>\n",
              "    </tr>\n",
              "    <tr>\n",
              "      <th>Fixed_Deposits</th>\n",
              "      <td>0</td>\n",
              "    </tr>\n",
              "    <tr>\n",
              "      <th>PPF</th>\n",
              "      <td>0</td>\n",
              "    </tr>\n",
              "    <tr>\n",
              "      <th>Gold</th>\n",
              "      <td>0</td>\n",
              "    </tr>\n",
              "    <tr>\n",
              "      <th>Stock_Marktet</th>\n",
              "      <td>0</td>\n",
              "    </tr>\n",
              "    <tr>\n",
              "      <th>Factor</th>\n",
              "      <td>0</td>\n",
              "    </tr>\n",
              "    <tr>\n",
              "      <th>Objective</th>\n",
              "      <td>0</td>\n",
              "    </tr>\n",
              "    <tr>\n",
              "      <th>Purpose</th>\n",
              "      <td>0</td>\n",
              "    </tr>\n",
              "    <tr>\n",
              "      <th>Duration</th>\n",
              "      <td>0</td>\n",
              "    </tr>\n",
              "    <tr>\n",
              "      <th>Invest_Monitor</th>\n",
              "      <td>0</td>\n",
              "    </tr>\n",
              "    <tr>\n",
              "      <th>Expect</th>\n",
              "      <td>0</td>\n",
              "    </tr>\n",
              "    <tr>\n",
              "      <th>Avenue</th>\n",
              "      <td>0</td>\n",
              "    </tr>\n",
              "    <tr>\n",
              "      <th>What are your savings objectives?</th>\n",
              "      <td>0</td>\n",
              "    </tr>\n",
              "    <tr>\n",
              "      <th>Reason_Equity</th>\n",
              "      <td>0</td>\n",
              "    </tr>\n",
              "    <tr>\n",
              "      <th>Reason_Mutual</th>\n",
              "      <td>0</td>\n",
              "    </tr>\n",
              "    <tr>\n",
              "      <th>Reason_Bonds</th>\n",
              "      <td>0</td>\n",
              "    </tr>\n",
              "    <tr>\n",
              "      <th>Reason_FD</th>\n",
              "      <td>0</td>\n",
              "    </tr>\n",
              "    <tr>\n",
              "      <th>Source</th>\n",
              "      <td>0</td>\n",
              "    </tr>\n",
              "  </tbody>\n",
              "</table>\n",
              "</div><br><label><b>dtype:</b> int64</label>"
            ]
          },
          "metadata": {},
          "execution_count": 9
        }
      ]
    },
    {
      "cell_type": "markdown",
      "source": [
        "**Task 2: Gender Distribution**"
      ],
      "metadata": {
        "id": "FGggQbPDaUBt"
      }
    },
    {
      "cell_type": "markdown",
      "source": [
        "1.Convert all gender values to lowercase and capitalize the first letter"
      ],
      "metadata": {
        "id": "pXIDtbw5c-g8"
      }
    },
    {
      "cell_type": "code",
      "source": [
        "df['gender'] = df['gender'].str.strip().str.lower().str.capitalize()"
      ],
      "metadata": {
        "id": "oMtr39BDdBax"
      },
      "execution_count": 10,
      "outputs": []
    },
    {
      "cell_type": "markdown",
      "source": [
        "2.Extract Gender Information"
      ],
      "metadata": {
        "id": "4wdC5seEaui7"
      }
    },
    {
      "cell_type": "code",
      "source": [
        "df['gender'].value_counts()"
      ],
      "metadata": {
        "colab": {
          "base_uri": "https://localhost:8080/",
          "height": 178
        },
        "id": "lRx2vcwWaPyu",
        "outputId": "ccfc4650-b57c-423a-8484-3efeae377bdd"
      },
      "execution_count": 11,
      "outputs": [
        {
          "output_type": "execute_result",
          "data": {
            "text/plain": [
              "gender\n",
              "Male      25\n",
              "Female    15\n",
              "Name: count, dtype: int64"
            ],
            "text/html": [
              "<div>\n",
              "<style scoped>\n",
              "    .dataframe tbody tr th:only-of-type {\n",
              "        vertical-align: middle;\n",
              "    }\n",
              "\n",
              "    .dataframe tbody tr th {\n",
              "        vertical-align: top;\n",
              "    }\n",
              "\n",
              "    .dataframe thead th {\n",
              "        text-align: right;\n",
              "    }\n",
              "</style>\n",
              "<table border=\"1\" class=\"dataframe\">\n",
              "  <thead>\n",
              "    <tr style=\"text-align: right;\">\n",
              "      <th></th>\n",
              "      <th>count</th>\n",
              "    </tr>\n",
              "    <tr>\n",
              "      <th>gender</th>\n",
              "      <th></th>\n",
              "    </tr>\n",
              "  </thead>\n",
              "  <tbody>\n",
              "    <tr>\n",
              "      <th>Male</th>\n",
              "      <td>25</td>\n",
              "    </tr>\n",
              "    <tr>\n",
              "      <th>Female</th>\n",
              "      <td>15</td>\n",
              "    </tr>\n",
              "  </tbody>\n",
              "</table>\n",
              "</div><br><label><b>dtype:</b> int64</label>"
            ]
          },
          "metadata": {},
          "execution_count": 11
        }
      ]
    },
    {
      "cell_type": "markdown",
      "source": [
        "3.Visualization"
      ],
      "metadata": {
        "id": "5Z1Wh2Tya0N2"
      }
    },
    {
      "cell_type": "code",
      "source": [
        "gender_counts = df['gender'].value_counts()"
      ],
      "metadata": {
        "id": "bpkAbVYuap9N"
      },
      "execution_count": 12,
      "outputs": []
    },
    {
      "cell_type": "markdown",
      "source": [
        "Bar Chart: Distribution \"Count\" of Genders"
      ],
      "metadata": {
        "id": "4-voIdc8ciBj"
      }
    },
    {
      "cell_type": "code",
      "source": [
        "plt.figure(figsize=(6, 4))\n",
        "gender_counts.plot(kind='bar', color=['skyblue', 'pink'])\n",
        "plt.title('Gender Distribution')\n",
        "plt.xlabel('Gender')\n",
        "plt.ylabel('Count')\n",
        "plt.show()"
      ],
      "metadata": {
        "colab": {
          "base_uri": "https://localhost:8080/",
          "height": 446
        },
        "id": "M4z0-_Ewb4uD",
        "outputId": "ab6cebdf-67ec-474a-a58e-00da03198733"
      },
      "execution_count": 13,
      "outputs": [
        {
          "output_type": "display_data",
          "data": {
            "text/plain": [
              "<Figure size 600x400 with 1 Axes>"
            ],
            "image/png": "[encoded data removed]"
          },
          "metadata": {}
        }
      ]
    },
    {
      "cell_type": "markdown",
      "source": [
        "Pie Chart: Distribution \"%\" of Genders"
      ],
      "metadata": {
        "id": "13XVmo12cap7"
      }
    },
    {
      "cell_type": "code",
      "source": [
        "plt.figure(figsize=(6, 4))\n",
        "gender_counts.plot(kind='pie', autopct='%1.1f%%', startangle=90, colors=['skyblue', 'pink'])\n",
        "plt.title('Gender Distribution')\n",
        "plt.ylabel('')\n",
        "plt.show()"
      ],
      "metadata": {
        "colab": {
          "base_uri": "https://localhost:8080/",
          "height": 367
        },
        "id": "qsr67yfRcH3p",
        "outputId": "9cac3f12-9114-405d-d9c7-b5d6b19fca16"
      },
      "execution_count": 14,
      "outputs": [
        {
          "output_type": "display_data",
          "data": {
            "text/plain": [
              "<Figure size 600x400 with 1 Axes>"
            ],
            "image/png": "[encoded data removed]"
          },
          "metadata": {}
        }
      ]
    },
    {
      "cell_type": "markdown",
      "source": [
        "# **Level 2: Intermediate**"
      ],
      "metadata": {
        "id": "j5H8msdZdmwi"
      }
    },
    {
      "cell_type": "markdown",
      "source": [
        "**Task 3: Descriptive Statistics**"
      ],
      "metadata": {
        "id": "2bXDfI9jdozS"
      }
    },
    {
      "cell_type": "markdown",
      "source": [
        "1.Identify Numerical Columns"
      ],
      "metadata": {
        "id": "CAV4OEtzdzIp"
      }
    },
    {
      "cell_type": "code",
      "source": [
        "numerical_cols = df.select_dtypes(include=['int64', 'float64']).columns\n",
        "print(\"Numerical Columns:\", numerical_cols)"
      ],
      "metadata": {
        "colab": {
          "base_uri": "https://localhost:8080/"
        },
        "id": "c-98vlL2fa0q",
        "outputId": "6a4f426f-e32d-481e-a2ab-bd308eaa1e72"
      },
      "execution_count": 15,
      "outputs": [
        {
          "output_type": "stream",
          "name": "stdout",
          "text": [
            "Numerical Columns: Index(['age', 'Mutual_Funds', 'Equity_Market', 'Debentures',\n",
            "       'Government_Bonds', 'Fixed_Deposits', 'PPF', 'Gold'],\n",
            "      dtype='object')\n"
          ]
        }
      ]
    },
    {
      "cell_type": "markdown",
      "source": [
        "2.Calculations"
      ],
      "metadata": {
        "id": "w_VzRrYKflE5"
      }
    },
    {
      "cell_type": "code",
      "source": [
        "# Calculate statistics\n",
        "for col in numerical_cols:\n",
        "    print(f\"Statistics for {col}:\")\n",
        "    print(f\"Mean: {df[col].mean()}\")\n",
        "    print(f\"Median: {df[col].median()}\")\n",
        "    print(f\"Standard Deviation: {df[col].std()}\")\n",
        "    print('-'*30)"
      ],
      "metadata": {
        "colab": {
          "base_uri": "https://localhost:8080/"
        },
        "id": "wpFpwuH3fnov",
        "outputId": "cf26ccfb-8399-4f6b-b72b-a2a029a882e2"
      },
      "execution_count": 16,
      "outputs": [
        {
          "output_type": "stream",
          "name": "stdout",
          "text": [
            "Statistics for age:\n",
            "Mean: 27.8\n",
            "Median: 27.0\n",
            "Standard Deviation: 3.560466693696639\n",
            "------------------------------\n",
            "Statistics for Mutual_Funds:\n",
            "Mean: 2.55\n",
            "Median: 2.0\n",
            "Standard Deviation: 1.1972189997378648\n",
            "------------------------------\n",
            "Statistics for Equity_Market:\n",
            "Mean: 3.475\n",
            "Median: 4.0\n",
            "Standard Deviation: 1.1319939294935533\n",
            "------------------------------\n",
            "Statistics for Debentures:\n",
            "Mean: 5.75\n",
            "Median: 6.5\n",
            "Standard Deviation: 1.6756169931378433\n",
            "------------------------------\n",
            "Statistics for Government_Bonds:\n",
            "Mean: 4.65\n",
            "Median: 5.0\n",
            "Standard Deviation: 1.3690723042845383\n",
            "------------------------------\n",
            "Statistics for Fixed_Deposits:\n",
            "Mean: 3.575\n",
            "Median: 3.5\n",
            "Standard Deviation: 1.7958284996067968\n",
            "------------------------------\n",
            "Statistics for PPF:\n",
            "Mean: 2.025\n",
            "Median: 1.0\n",
            "Standard Deviation: 1.6090688500193404\n",
            "------------------------------\n",
            "Statistics for Gold:\n",
            "Mean: 5.975\n",
            "Median: 6.0\n",
            "Standard Deviation: 1.1432634351063986\n",
            "------------------------------\n"
          ]
        }
      ]
    },
    {
      "cell_type": "markdown",
      "source": [
        "**Task 4: Most Preferred Investment\n",
        "Avenue**"
      ],
      "metadata": {
        "id": "iB2tnrUTg7lJ"
      }
    },
    {
      "cell_type": "markdown",
      "source": [
        "1.Analyze Investment Avenues"
      ],
      "metadata": {
        "id": "R3hc1Sr-hF9m"
      }
    },
    {
      "cell_type": "code",
      "source": [
        "df['Avenue'].unique()"
      ],
      "metadata": {
        "colab": {
          "base_uri": "https://localhost:8080/"
        },
        "id": "1_scza1JhD_b",
        "outputId": "ec9aff65-51a9-4528-9e7f-3a1a561f717d"
      },
      "execution_count": 17,
      "outputs": [
        {
          "output_type": "execute_result",
          "data": {
            "text/plain": [
              "array(['Mutual Fund', 'Equity', 'Fixed Deposits', 'Public Provident Fund'],\n",
              "      dtype=object)"
            ]
          },
          "metadata": {},
          "execution_count": 17
        }
      ]
    },
    {
      "cell_type": "markdown",
      "source": [
        "2.Frequency analysis"
      ],
      "metadata": {
        "id": "i7YEiSHujh_y"
      }
    },
    {
      "cell_type": "code",
      "source": [
        "investment_counts = df['Avenue'].value_counts()\n",
        "print(\"Investment Avenue Preferences:\")\n",
        "print(investment_counts)"
      ],
      "metadata": {
        "colab": {
          "base_uri": "https://localhost:8080/"
        },
        "id": "CyhRrnI6kZZ3",
        "outputId": "455ef9dc-3b1b-4348-cc1c-971331ec738a"
      },
      "execution_count": 18,
      "outputs": [
        {
          "output_type": "stream",
          "name": "stdout",
          "text": [
            "Investment Avenue Preferences:\n",
            "Avenue\n",
            "Mutual Fund              18\n",
            "Equity                   10\n",
            "Fixed Deposits            9\n",
            "Public Provident Fund     3\n",
            "Name: count, dtype: int64\n"
          ]
        }
      ]
    },
    {
      "cell_type": "markdown",
      "source": [
        "3.Most preferred Investment Avenue"
      ],
      "metadata": {
        "id": "8vsyLcvckfAH"
      }
    },
    {
      "cell_type": "code",
      "source": [
        "most_preferred = investment_counts.idxmax()\n",
        "print(f\"Most Preferred Investment Avenue: {most_preferred}\")"
      ],
      "metadata": {
        "colab": {
          "base_uri": "https://localhost:8080/"
        },
        "id": "eLlfzIb2jpvx",
        "outputId": "6470f9b4-d43a-4133-8d37-bcdb7335a818"
      },
      "execution_count": 19,
      "outputs": [
        {
          "output_type": "stream",
          "name": "stdout",
          "text": [
            "Most Preferred Investment Avenue: Mutual Fund\n"
          ]
        }
      ]
    },
    {
      "cell_type": "markdown",
      "source": [
        "# **Level 3: Advanced**"
      ],
      "metadata": {
        "id": "GHc2A2nqk6_d"
      }
    },
    {
      "cell_type": "markdown",
      "source": [
        "**Task 5: Reasons for Investment**"
      ],
      "metadata": {
        "id": "VHNm7q3uk89W"
      }
    },
    {
      "cell_type": "markdown",
      "source": [
        "1.Explore Reasons Column"
      ],
      "metadata": {
        "id": "gq_ujp6ilGue"
      }
    },
    {
      "cell_type": "code",
      "source": [
        "# Check first few responses\n",
        "df[\"Purpose\"].head(10)"
      ],
      "metadata": {
        "colab": {
          "base_uri": "https://localhost:8080/",
          "height": 397
        },
        "id": "Xpaet_4yPAet",
        "outputId": "2a36d841-60f2-4e05-8ecb-9361a0eab8c8"
      },
      "execution_count": 20,
      "outputs": [
        {
          "output_type": "execute_result",
          "data": {
            "text/plain": [
              "0       Wealth Creation\n",
              "1       Wealth Creation\n",
              "2       Wealth Creation\n",
              "3       Wealth Creation\n",
              "4       Wealth Creation\n",
              "5       Wealth Creation\n",
              "6       Wealth Creation\n",
              "7       Wealth Creation\n",
              "8    Savings for Future\n",
              "9       Wealth Creation\n",
              "Name: Purpose, dtype: object"
            ],
            "text/html": [
              "<div>\n",
              "<style scoped>\n",
              "    .dataframe tbody tr th:only-of-type {\n",
              "        vertical-align: middle;\n",
              "    }\n",
              "\n",
              "    .dataframe tbody tr th {\n",
              "        vertical-align: top;\n",
              "    }\n",
              "\n",
              "    .dataframe thead th {\n",
              "        text-align: right;\n",
              "    }\n",
              "</style>\n",
              "<table border=\"1\" class=\"dataframe\">\n",
              "  <thead>\n",
              "    <tr style=\"text-align: right;\">\n",
              "      <th></th>\n",
              "      <th>Purpose</th>\n",
              "    </tr>\n",
              "  </thead>\n",
              "  <tbody>\n",
              "    <tr>\n",
              "      <th>0</th>\n",
              "      <td>Wealth Creation</td>\n",
              "    </tr>\n",
              "    <tr>\n",
              "      <th>1</th>\n",
              "      <td>Wealth Creation</td>\n",
              "    </tr>\n",
              "    <tr>\n",
              "      <th>2</th>\n",
              "      <td>Wealth Creation</td>\n",
              "    </tr>\n",
              "    <tr>\n",
              "      <th>3</th>\n",
              "      <td>Wealth Creation</td>\n",
              "    </tr>\n",
              "    <tr>\n",
              "      <th>4</th>\n",
              "      <td>Wealth Creation</td>\n",
              "    </tr>\n",
              "    <tr>\n",
              "      <th>5</th>\n",
              "      <td>Wealth Creation</td>\n",
              "    </tr>\n",
              "    <tr>\n",
              "      <th>6</th>\n",
              "      <td>Wealth Creation</td>\n",
              "    </tr>\n",
              "    <tr>\n",
              "      <th>7</th>\n",
              "      <td>Wealth Creation</td>\n",
              "    </tr>\n",
              "    <tr>\n",
              "      <th>8</th>\n",
              "      <td>Savings for Future</td>\n",
              "    </tr>\n",
              "    <tr>\n",
              "      <th>9</th>\n",
              "      <td>Wealth Creation</td>\n",
              "    </tr>\n",
              "  </tbody>\n",
              "</table>\n",
              "</div><br><label><b>dtype:</b> object</label>"
            ]
          },
          "metadata": {},
          "execution_count": 20
        }
      ]
    },
    {
      "cell_type": "code",
      "source": [
        "# Check number of unique responses\n",
        "print(\"Unique responses:\", df[\"Purpose\"].unique())"
      ],
      "metadata": {
        "colab": {
          "base_uri": "https://localhost:8080/"
        },
        "id": "ke6wrNj5RId8",
        "outputId": "2e50972c-fa84-40bc-915c-272781d6db9b"
      },
      "execution_count": 21,
      "outputs": [
        {
          "output_type": "stream",
          "name": "stdout",
          "text": [
            "Unique responses: ['Wealth Creation' 'Savings for Future' 'Returns']\n"
          ]
        }
      ]
    },
    {
      "cell_type": "markdown",
      "source": [
        "2.Summarize Reasons"
      ],
      "metadata": {
        "id": "LKVDGXJeSMQZ"
      }
    },
    {
      "cell_type": "code",
      "source": [
        "theme_counts = df['Objective'].dropna().value_counts()\n",
        "\n",
        "print(\"Investment Objectives Summary:\")\n",
        "print(theme_counts)\n",
        "\n",
        "colors = plt.cm.Set3(range(len(theme_counts)))  # You can also try Paired, Pastel1, Accent etc.\n",
        "\n",
        "theme_counts.plot(\n",
        "    kind='bar',\n",
        "    color=colors,\n",
        "    title='Common Investment Objectives',\n",
        "    figsize=(10, 6)\n",
        ")\n",
        "\n",
        "plt.xlabel('Investment Objective')\n",
        "plt.ylabel('Number of Participants')\n",
        "plt.xticks(rotation=45)\n",
        "plt.tight_layout()\n",
        "plt.show()"
      ],
      "metadata": {
        "colab": {
          "base_uri": "https://localhost:8080/",
          "height": 716
        },
        "id": "DjTI1T3wSRbp",
        "outputId": "f3485ba1-3c4f-40a9-baac-fc26d60df5cc"
      },
      "execution_count": 22,
      "outputs": [
        {
          "output_type": "stream",
          "name": "stdout",
          "text": [
            "Investment Objectives Summary:\n",
            "Objective\n",
            "Capital Appreciation    26\n",
            "Growth                  11\n",
            "Income                   3\n",
            "Name: count, dtype: int64\n"
          ]
        },
        {
          "output_type": "display_data",
          "data": {
            "text/plain": [
              "<Figure size 1000x600 with 1 Axes>"
            ],
            "image/png": "[encoded data removed]"
          },
          "metadata": {}
        }
      ]
    },
    {
      "cell_type": "markdown",
      "source": [
        "**Task 6: Savings Objectives**"
      ],
      "metadata": {
        "id": "u5Aep2Y2S70A"
      }
    },
    {
      "cell_type": "markdown",
      "source": [
        "1.Analyze Savings Objectives"
      ],
      "metadata": {
        "id": "s-OvEx29TFH2"
      }
    },
    {
      "cell_type": "code",
      "source": [
        "unique_savings_objectives = df[\"What are your savings objectives?\"].dropna().unique()\n",
        "\n",
        "print(\"Unique Savings Objectives:\")\n",
        "for obj in unique_savings_objectives:\n",
        "    print(\"-\", obj)"
      ],
      "metadata": {
        "colab": {
          "base_uri": "https://localhost:8080/"
        },
        "id": "TXdi92tiS_6o",
        "outputId": "e7e7c710-c778-48e7-d10d-defd4e341e66"
      },
      "execution_count": 23,
      "outputs": [
        {
          "output_type": "stream",
          "name": "stdout",
          "text": [
            "Unique Savings Objectives:\n",
            "- Retirement Plan\n",
            "- Health Care\n",
            "- Education\n"
          ]
        }
      ]
    },
    {
      "cell_type": "markdown",
      "source": [
        "2.List and Describe Objectives"
      ],
      "metadata": {
        "id": "lRDSRFhZVC2j"
      }
    },
    {
      "cell_type": "code",
      "source": [
        "objective_counts = df[\"What are your savings objectives?\"].value_counts()\n",
        "\n",
        "objective_descriptions = {\n",
        "    \"Retirement Plan\": \"Financial preparation for post-retirement life, ensuring long-term independence and stability.\",\n",
        "    \"Health Care\": \"Funds set aside for medical needs and emergencies, reflecting awareness of health-related financial risks.\",\n",
        "    \"Education\": \"Savings meant for educational expenses such as school, college, or higher studies for self or dependents.\"\n",
        "}\n",
        "\n",
        "print(\"\\nMain Savings Objectives and Their Descriptions:\\n\")\n",
        "\n",
        "for obj in objective_counts.index:\n",
        "    description = objective_descriptions.get(obj, \"No description available.\")\n",
        "    print(f\"🔹 {obj}\\n   ➤ Description: {description}\\n\")"
      ],
      "metadata": {
        "colab": {
          "base_uri": "https://localhost:8080/"
        },
        "id": "EJR5tpBgVL_P",
        "outputId": "75768212-0a91-4480-ff6e-ecbbfd769172"
      },
      "execution_count": 24,
      "outputs": [
        {
          "output_type": "stream",
          "name": "stdout",
          "text": [
            "\n",
            "Main Savings Objectives and Their Descriptions:\n",
            "\n",
            "🔹 Retirement Plan\n",
            "   ➤ Description: Financial preparation for post-retirement life, ensuring long-term independence and stability.\n",
            "\n",
            "🔹 Health Care\n",
            "   ➤ Description: Funds set aside for medical needs and emergencies, reflecting awareness of health-related financial risks.\n",
            "\n",
            "🔹 Education\n",
            "   ➤ Description: Savings meant for educational expenses such as school, college, or higher studies for self or dependents.\n",
            "\n"
          ]
        }
      ]
    },
    {
      "cell_type": "markdown",
      "source": [
        "# **Level 4: Expert**"
      ],
      "metadata": {
        "id": "lHQDRXanXvJ4"
      }
    },
    {
      "cell_type": "markdown",
      "source": [
        "**Task 7: Common Information Sources**"
      ],
      "metadata": {
        "id": "pJyzw4ulclaP"
      }
    },
    {
      "cell_type": "markdown",
      "source": [
        "1.Explore Information Sources Column"
      ],
      "metadata": {
        "id": "fzJ2_KRnX6ky"
      }
    },
    {
      "cell_type": "code",
      "source": [
        "df['Source'] = df['Source'].astype(str).str.strip().str.title()\n",
        "\n",
        "unique_sources = df['Source'].unique()\n",
        "\n",
        "print(\"Unique Sources of Investment Information:\")\n",
        "print(unique_sources)\n",
        "\n",
        "source_counts = df['Source'].value_counts()\n",
        "\n",
        "print(\"\\nSource Frequency (Number of Participants per Source):\")\n",
        "print(source_counts)"
      ],
      "metadata": {
        "colab": {
          "base_uri": "https://localhost:8080/"
        },
        "id": "5FFqL9bLaK-_",
        "outputId": "22d28519-66a3-4ebb-abac-dcb30db09552"
      },
      "execution_count": 25,
      "outputs": [
        {
          "output_type": "stream",
          "name": "stdout",
          "text": [
            "Unique Sources of Investment Information:\n",
            "['Newspapers And Magazines' 'Financial Consultants' 'Television'\n",
            " 'Internet']\n",
            "\n",
            "Source Frequency (Number of Participants per Source):\n",
            "Source\n",
            "Financial Consultants       16\n",
            "Newspapers And Magazines    14\n",
            "Television                   6\n",
            "Internet                     4\n",
            "Name: count, dtype: int64\n"
          ]
        }
      ]
    },
    {
      "cell_type": "markdown",
      "source": [
        "2.Identify Common Sources"
      ],
      "metadata": {
        "id": "ztEI_KcQarOe"
      }
    },
    {
      "cell_type": "code",
      "source": [
        "plt.figure(figsize=(4, 4))\n",
        "plt.pie(source_counts.values, labels=source_counts.index, autopct='%1.1f%%', startangle=140, colors=plt.cm.Paired(range(len(source_counts))))\n",
        "plt.title('Distribution of Investment Information Sources')\n",
        "plt.axis('equal')  # Equal aspect ratio ensures that pie chart is drawn as a circle.\n",
        "plt.show()"
      ],
      "metadata": {
        "colab": {
          "base_uri": "https://localhost:8080/",
          "height": 367
        },
        "id": "WiBSTcHXav4f",
        "outputId": "73a42f01-9919-40b6-b52d-0e65206cb8f9"
      },
      "execution_count": 26,
      "outputs": [
        {
          "output_type": "display_data",
          "data": {
            "text/plain": [
              "<Figure size 400x400 with 1 Axes>"
            ],
            "image/png": "[encoded data removed]"
          },
          "metadata": {}
        }
      ]
    }
  ]
}